{
 "cells": [
  {
   "cell_type": "code",
   "execution_count": 1,
   "id": "852aa61d-8217-4f58-8388-0c03fe14abfc",
   "metadata": {},
   "outputs": [],
   "source": [
    "## Adding pyvis\n",
    "import networkx as nx\n",
    "from pyvis.network import Network\n",
    "from pyvis import network as net"
   ]
  },
  {
   "cell_type": "code",
   "execution_count": 2,
   "id": "e7603edc-6d32-43c1-9973-53cc1bb2fe76",
   "metadata": {},
   "outputs": [],
   "source": [
    "nx_graph = nx.cycle_graph(10)\n",
    "nx_graph.nodes[1]['title'] = 'Number 1'\n",
    "nx_graph.nodes[1]['group'] = 1\n",
    "nx_graph.nodes[3]['title'] = 'I belong to a different group!'\n",
    "nx_graph.nodes[3]['group'] = 10\n",
    "nx_graph.add_node(20, size=20, title='couple', group=2)\n",
    "nx_graph.add_node(21, size=15, title='couple', group=2)\n",
    "nx_graph.add_edge(20, 21, weight=5)\n",
    "nx_graph.add_node(25, size=25, label='lonely', title='lonely node', group=3)"
   ]
  },
  {
   "cell_type": "code",
   "execution_count": 3,
   "id": "7ac12009-5880-4b88-afd7-1035c14cee2e",
   "metadata": {},
   "outputs": [
    {
     "name": "stdout",
     "output_type": "stream",
     "text": [
      "nx.html\n"
     ]
    }
   ],
   "source": [
    "nt = Network('500px', '500px')\n",
    "# populates the nodes and edges data structures\n",
    "nt.from_nx(nx_graph)\n",
    "nt.show('nx.html', notebook=False)"
   ]
  },
  {
   "cell_type": "code",
   "execution_count": 7,
   "id": "49bb6d10-9803-4372-b762-79197ab3bef6",
   "metadata": {},
   "outputs": [
    {
     "name": "stdout",
     "output_type": "stream",
     "text": [
      "Warning: When  cdn_resources is 'local' jupyter notebook has issues displaying graphics on chrome/safari. Use cdn_resources='in_line' or cdn_resources='remote' if you have issues viewing graphics in a notebook.\n",
      "nx.html\n"
     ]
    },
    {
     "data": {
      "text/html": [
       "\n",
       "        <iframe\n",
       "            width=\"500px\"\n",
       "            height=\"500px\"\n",
       "            src=\"nx.html\"\n",
       "            frameborder=\"0\"\n",
       "            allowfullscreen\n",
       "            \n",
       "        ></iframe>\n",
       "        "
      ],
      "text/plain": [
       "<IPython.lib.display.IFrame at 0x1b65dff1430>"
      ]
     },
     "execution_count": 7,
     "metadata": {},
     "output_type": "execute_result"
    }
   ],
   "source": [
    "nx_graph = nx.Graph()\n",
    "nx_graph.add_node('really really really long name1', size=20)\n",
    "nx_graph.add_node(2)\n",
    "nx_graph.add_node(3)\n",
    "nx_graph.add_node(4)\n",
    "nx_graph.add_node(5)\n",
    "nx_graph.add_node(6)\n",
    "nx_graph.add_edges_from([('really really really long name1',2), ('really really really long name1',3), ('really really really long name1',4), ('really really really long name1',5), ('really really really long name1',6)])\n",
    "nt = Network('500px', '500px', notebook = True)\n",
    "nt.from_nx(nx_graph)\n",
    "nt.show('nx.html') # mention network=False here to show the graph outside of jupyter notebook"
   ]
  },
  {
   "cell_type": "code",
   "execution_count": null,
   "id": "3fb5a9bb-d7f6-4b73-8481-cce15a25c40e",
   "metadata": {},
   "outputs": [],
   "source": [
    "nx_graph = nx.Graph()\n",
    "nx_graph.add_node('really really really long name1')\n",
    "nx_graph.add_node(2)\n",
    "nx_graph.add_node(3)\n",
    "nx_graph.add_node(4)\n",
    "nx_graph.add_node(5)\n",
    "nx_graph.add_node(6)\n",
    "nx_graph.add_edges_from([('really really really long name1',2), ('really really really long name1',3), ('really really really long name1',4), ('really really really long name1',5), ('really really really long name1',6)])\n",
    "nt = Network('500px', '500px', notebook = True)\n",
    "nt.from_nx(nx_graph)\n",
    "nt.show('nx.html') # mention network=False here to show the graph outside of jupyter notebook"
   ]
  },
  {
   "cell_type": "code",
   "execution_count": 5,
   "id": "64ad8dfa-140a-44ad-a6ba-f719e9c959a8",
   "metadata": {},
   "outputs": [],
   "source": [
    "## Making an Adjacency Matrix to then plot"
   ]
  },
  {
   "cell_type": "code",
   "execution_count": 6,
   "id": "d9435122-de53-4863-bc93-b3b05e098cc4",
   "metadata": {},
   "outputs": [
    {
     "name": "stdout",
     "output_type": "stream",
     "text": [
      "Warning: When  cdn_resources is 'local' jupyter notebook has issues displaying graphics on chrome/safari. Use cdn_resources='in_line' or cdn_resources='remote' if you have issues viewing graphics in a notebook.\n",
      "ex.html\n"
     ]
    },
    {
     "data": {
      "text/html": [
       "\n",
       "        <iframe\n",
       "            width=\"100%\"\n",
       "            height=\"600px\"\n",
       "            src=\"ex.html\"\n",
       "            frameborder=\"0\"\n",
       "            allowfullscreen\n",
       "            \n",
       "        ></iframe>\n",
       "        "
      ],
      "text/plain": [
       "<IPython.lib.display.IFrame at 0x1b65e2708c0>"
      ]
     },
     "execution_count": 6,
     "metadata": {},
     "output_type": "execute_result"
    }
   ],
   "source": [
    "g=net.Network(notebook=True)\n",
    "nxg = nx.complete_graph(5)\n",
    "g.from_nx(nxg)\n",
    "g.show('ex.html')"
   ]
  },
  {
   "cell_type": "code",
   "execution_count": null,
   "id": "c348fe6b-5329-4a20-93ca-bccc815e0304",
   "metadata": {},
   "outputs": [],
   "source": []
  }
 ],
 "metadata": {
  "kernelspec": {
   "display_name": "venv",
   "language": "python",
   "name": "venv"
  },
  "language_info": {
   "codemirror_mode": {
    "name": "ipython",
    "version": 3
   },
   "file_extension": ".py",
   "mimetype": "text/x-python",
   "name": "python",
   "nbconvert_exporter": "python",
   "pygments_lexer": "ipython3",
   "version": "3.12.4"
  }
 },
 "nbformat": 4,
 "nbformat_minor": 5
}
